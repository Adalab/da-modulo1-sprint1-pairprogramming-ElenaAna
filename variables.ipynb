{
 "cells": [
  {
   "cell_type": "code",
   "execution_count": 2,
   "metadata": {},
   "outputs": [],
   "source": [
    "#1. Cread tres variables numéricas de tipo integer (entero), llamadas de la siguiente forma:\n",
    "numero1 = 4\n",
    "numero2 = 7\n",
    "numero3 = 20"
   ]
  },
  {
   "cell_type": "code",
   "execution_count": 5,
   "metadata": {},
   "outputs": [
    {
     "data": {
      "text/plain": [
       "False"
      ]
     },
     "execution_count": 5,
     "metadata": {},
     "output_type": "execute_result"
    }
   ],
   "source": [
    "#1.a es el numero1 mayor que el numero2\n",
    "numero1 > numero2"
   ]
  },
  {
   "cell_type": "code",
   "execution_count": 4,
   "metadata": {},
   "outputs": [
    {
     "data": {
      "text/plain": [
       "False"
      ]
     },
     "execution_count": 4,
     "metadata": {},
     "output_type": "execute_result"
    }
   ],
   "source": [
    "#1.b Es el numero1 menor que el numero2 pero mayor que el numero3\n",
    "numero1 < numero2 and numero1 > numero2"
   ]
  },
  {
   "cell_type": "code",
   "execution_count": 10,
   "metadata": {},
   "outputs": [
    {
     "name": "stdout",
     "output_type": "stream",
     "text": [
      "True\n"
     ]
    }
   ],
   "source": [
    "#1.c Es el numero3 igual que el numero2\n",
    "print(numero3 == numero2)"
   ]
  },
  {
   "cell_type": "code",
   "execution_count": 11,
   "metadata": {},
   "outputs": [
    {
     "name": "stdout",
     "output_type": "stream",
     "text": [
      "True\n"
     ]
    }
   ],
   "source": [
    "#1.d Es el numero2 distinto que el numero1\n",
    "print(numero2 != numero1)"
   ]
  },
  {
   "cell_type": "code",
   "execution_count": 13,
   "metadata": {},
   "outputs": [],
   "source": [
    "#2. Cread dos variables numéricas de tipo float (decimal) con dos decimales, llamdas de la siguiente forma\n",
    "altura1 = 1.60\n",
    "altura2 = 1.83"
   ]
  },
  {
   "cell_type": "code",
   "execution_count": 14,
   "metadata": {},
   "outputs": [
    {
     "data": {
      "text/plain": [
       "3.43"
      ]
     },
     "execution_count": 14,
     "metadata": {},
     "output_type": "execute_result"
    }
   ],
   "source": [
    "#2.a Cuál es la suma de las dos alturas\n",
    "altura1 + altura2"
   ]
  },
  {
   "cell_type": "code",
   "execution_count": 15,
   "metadata": {},
   "outputs": [
    {
     "data": {
      "text/plain": [
       "-0.22999999999999998"
      ]
     },
     "execution_count": 15,
     "metadata": {},
     "output_type": "execute_result"
    }
   ],
   "source": [
    "#2.b Cuál es la diferencia entre las alturas\n",
    "altura1 - altura2"
   ]
  },
  {
   "cell_type": "code",
   "execution_count": 16,
   "metadata": {},
   "outputs": [
    {
     "data": {
      "text/plain": [
       "1.6"
      ]
     },
     "execution_count": 16,
     "metadata": {},
     "output_type": "execute_result"
    }
   ],
   "source": [
    "#2.c Cuál es el resto de la división de las dos alturas\n",
    "altura1%altura2"
   ]
  },
  {
   "cell_type": "code",
   "execution_count": 17,
   "metadata": {},
   "outputs": [
    {
     "name": "stdout",
     "output_type": "stream",
     "text": [
      "0.9\n"
     ]
    }
   ],
   "source": [
    "#2.d Cuál es resultado de la división de las dos alturas, redondead el resultado a un decimal\n",
    "print(round(altura1/altura2,1))"
   ]
  },
  {
   "cell_type": "code",
   "execution_count": 2,
   "metadata": {},
   "outputs": [
    {
     "name": "stdout",
     "output_type": "stream",
     "text": [
      "ELENA GUILLEN\n"
     ]
    }
   ],
   "source": [
    "#3. Escribid un programa usando la función input() que le pregunte al usuario su nombre y apellidos. Una vez que tengamos el nombre del usuario\n",
    "nombre_apellido = input(\"Introduce tu nombre y apellidos\")\n",
    "\n",
    "#3.a Printead su nombre y apellidos todo en mayúsculas\n",
    "print(nombre_apellido.upper())"
   ]
  },
  {
   "cell_type": "code",
   "execution_count": 3,
   "metadata": {},
   "outputs": [
    {
     "name": "stdout",
     "output_type": "stream",
     "text": [
      "elena guillen\n"
     ]
    }
   ],
   "source": [
    "#3.b Printead su nombre y apellidos todo en minúsculas\n",
    "print(nombre_apellido.lower())"
   ]
  },
  {
   "cell_type": "code",
   "execution_count": 4,
   "metadata": {},
   "outputs": [
    {
     "name": "stdout",
     "output_type": "stream",
     "text": [
      "Elena Guillen\n"
     ]
    }
   ],
   "source": [
    "#3.c Printead su nombre y apellidos con la primera letra del nombre y los apellidos en mayúscula y el resto en minúscula\n",
    "print(nombre_apellido.title())"
   ]
  },
  {
   "cell_type": "code",
   "execution_count": 5,
   "metadata": {},
   "outputs": [
    {
     "name": "stdout",
     "output_type": "stream",
     "text": [
      "Elena guillen\n"
     ]
    }
   ],
   "source": [
    "#3.d Printeas solo la primera letra del nombre en mayúscula\n",
    "print(nombre_apellido.capitalize())"
   ]
  },
  {
   "cell_type": "code",
   "execution_count": 7,
   "metadata": {},
   "outputs": [
    {
     "name": "stdout",
     "output_type": "stream",
     "text": [
      "Buenos días a todas\n"
     ]
    }
   ],
   "source": [
    "#4. Escribid un programa usando la función input() que: Le pregunte al usuario por una frase, almacenad este resultado en una variable\n",
    "\n",
    "saludo = input (\"Introduce un mensaje de saludo\")\n",
    "print (saludo)"
   ]
  },
  {
   "cell_type": "code",
   "execution_count": 8,
   "metadata": {},
   "outputs": [
    {
     "name": "stdout",
     "output_type": "stream",
     "text": [
      "e\n"
     ]
    }
   ],
   "source": [
    "#4.a Le pregunte al usuario por una vocal, almacenad este resultado en una variable\n",
    "vocal = input (\"Introduce una vocal\")\n",
    "print (vocal)"
   ]
  },
  {
   "cell_type": "code",
   "execution_count": 11,
   "metadata": {},
   "outputs": [
    {
     "name": "stdout",
     "output_type": "stream",
     "text": [
      "Buenos días a todas E\n"
     ]
    }
   ],
   "source": [
    "#4.b Printead la misma frase pero con la vocal introducida en mayúsulas\n",
    "union = saludo + \" \" + vocal.upper()\n",
    "print (union)"
   ]
  },
  {
   "cell_type": "code",
   "execution_count": 29,
   "metadata": {},
   "outputs": [
    {
     "name": "stdout",
     "output_type": "stream",
     "text": [
      "peras, patatas, tomates\n"
     ]
    }
   ],
   "source": [
    "#5. Escribid un programa usando la función input() que: Le pregunte al usuario por la lista de la compra, separando cada elemento por comas\n",
    "compra = input (\"Añade tu lista de la compra, separando cada producto por comas\")\n",
    "print (compra)"
   ]
  },
  {
   "cell_type": "code",
   "execution_count": 31,
   "metadata": {},
   "outputs": [
    {
     "name": "stdout",
     "output_type": "stream",
     "text": [
      "['peras', ' patatas', ' tomates']\n"
     ]
    }
   ],
   "source": [
    "compra2 = compra.split(\",\")\n",
    "print (compra2)"
   ]
  },
  {
   "cell_type": "code",
   "execution_count": 35,
   "metadata": {},
   "outputs": [
    {
     "name": "stdout",
     "output_type": "stream",
     "text": [
      "peras\n",
      " patatas\n",
      " tomates\n"
     ]
    }
   ],
   "source": [
    "compra3 = \"\\n\".join (compra2)\n",
    "print (compra3)"
   ]
  }
 ],
 "metadata": {
  "kernelspec": {
   "display_name": "base",
   "language": "python",
   "name": "python3"
  },
  "language_info": {
   "codemirror_mode": {
    "name": "ipython",
    "version": 3
   },
   "file_extension": ".py",
   "mimetype": "text/x-python",
   "name": "python",
   "nbconvert_exporter": "python",
   "pygments_lexer": "ipython3",
   "version": "3.9.7"
  },
  "orig_nbformat": 4
 },
 "nbformat": 4,
 "nbformat_minor": 2
}
