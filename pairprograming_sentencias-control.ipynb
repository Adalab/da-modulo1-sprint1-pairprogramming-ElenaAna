{
 "cells": [
  {
   "cell_type": "code",
   "execution_count": 2,
   "metadata": {},
   "outputs": [
    {
     "name": "stdout",
     "output_type": "stream",
     "text": [
      "El número insertado cero\n"
     ]
    }
   ],
   "source": [
    "#Ejercicio1_Verificar si un número es positivo, negativo o cero\n",
    "\n",
    "numero = int(input (\"Introduce un número\"))\n",
    "\n",
    "if numero == 0:\n",
    "    print (\"El número insertado cero\")\n",
    "elif numero >0:\n",
    "    print (\"El número insertado (\", numero, \") es positivo\")\n",
    "else:\n",
    "    print (\"El número insertado (\", numero, \") es negativo\")"
   ]
  },
  {
   "cell_type": "code",
   "execution_count": 3,
   "metadata": {},
   "outputs": [
    {
     "name": "stdout",
     "output_type": "stream",
     "text": [
      "El número es impar\n"
     ]
    }
   ],
   "source": [
    "#Ejercio2_Verificar si un número es par o impar\n",
    "\n",
    "numeropar = 9\n",
    "\n",
    "if numeropar % 2 == 0:\n",
    "    print (\"El número es par\")\n",
    "else:\n",
    "    print (\"El número es impar\")"
   ]
  },
  {
   "cell_type": "code",
   "execution_count": 4,
   "metadata": {},
   "outputs": [
    {
     "name": "stdout",
     "output_type": "stream",
     "text": [
      "El estudiante ha aprobado\n"
     ]
    }
   ],
   "source": [
    "#Ejercio3_Verificar si un estudiante aprobó o suspendió un examen\n",
    "\n",
    "calificacion = 80\n",
    "\n",
    "if calificacion >= 60:\n",
    "    print (\"El estudiante ha aprobado\")\n",
    "else:\n",
    "    print (\"El estudiante ha suspendido\")"
   ]
  },
  {
   "cell_type": "code",
   "execution_count": 5,
   "metadata": {},
   "outputs": [
    {
     "name": "stdout",
     "output_type": "stream",
     "text": [
      "El mayor el 90\n"
     ]
    }
   ],
   "source": [
    "#Ejercio4_Calcular el máximo entre dos números. Opción 1\n",
    "\n",
    "numeros1 = 80\n",
    "numeros2 = 90\n",
    "\n",
    "if numeros2 > numeros1:\n",
    "    print (f\"El mayor el {numeros2}\")"
   ]
  },
  {
   "cell_type": "code",
   "execution_count": 6,
   "metadata": {},
   "outputs": [
    {
     "data": {
      "text/plain": [
       "90"
      ]
     },
     "execution_count": 6,
     "metadata": {},
     "output_type": "execute_result"
    }
   ],
   "source": [
    "#Ejercio4_Calcular el máximo entre dos números. Opción 2\n",
    "\n",
    "numeros3 = [80, 90]\n",
    "max(numeros3)"
   ]
  },
  {
   "cell_type": "code",
   "execution_count": 7,
   "metadata": {},
   "outputs": [
    {
     "name": "stdout",
     "output_type": "stream",
     "text": [
      "letra es una consonante\n"
     ]
    }
   ],
   "source": [
    "#Ejercio5_Verificar si una letra es una vocal o una consonante\n",
    "\n",
    "letra = \"H\"\n",
    "vocales = [\"A\", \"E\", \"I\", \"O\", \"U\"]\n",
    "\n",
    "if letra == vocales:\n",
    "    print (\"letra es una vocal\")\n",
    "else:\n",
    "    print (\"letra es una consonante\")\n"
   ]
  },
  {
   "cell_type": "code",
   "execution_count": 8,
   "metadata": {},
   "outputs": [
    {
     "name": "stdout",
     "output_type": "stream",
     "text": [
      "El descueno es de: 30.0 EUR\n"
     ]
    }
   ],
   "source": [
    "#Ejercio6_Calcular el descuento en una compra según el monto total\n",
    "\n",
    "compra = 300\n",
    "\n",
    "if compra >= 100:\n",
    "    descuento1 = (compra*0.10)\n",
    "    print (\"El descueno es de:\", descuento1, \"EUR\")\n",
    "else:\n",
    "    print (\"No hay descuento\")"
   ]
  },
  {
   "cell_type": "code",
   "execution_count": 9,
   "metadata": {},
   "outputs": [
    {
     "name": "stdout",
     "output_type": "stream",
     "text": [
      "2023 No es bisiesto\n"
     ]
    }
   ],
   "source": [
    "#Ejercio7_Verificar si un año es bisiesto o no\n",
    "\n",
    "año = 2023\n",
    "\n",
    "if año % 4 == 0:\n",
    "    print (año, \"Es bisiesto\")\n",
    "\n",
    "else:\n",
    "    print (año, \"No es bisiesto\")"
   ]
  },
  {
   "cell_type": "code",
   "execution_count": 10,
   "metadata": {},
   "outputs": [
    {
     "name": "stdout",
     "output_type": "stream",
     "text": [
      "Es adulo\n"
     ]
    }
   ],
   "source": [
    "#Ejercio8_Verificar el grupo de edad\n",
    "\n",
    "edad = 37\n",
    "\n",
    "if edad < 18:\n",
    "    print (\"Es menor de edad\")\n",
    "\n",
    "elif edad >= 18 and edad <= 64:\n",
    "    print (\"Es adulo\")\n",
    "\n",
    "else:\n",
    "    print (\"Es adulto mayor\")"
   ]
  },
  {
   "cell_type": "code",
   "execution_count": 11,
   "metadata": {},
   "outputs": [
    {
     "name": "stdout",
     "output_type": "stream",
     "text": [
      "Es un triángulo rectángulo\n"
     ]
    }
   ],
   "source": [
    "#Ejercio9_Verificar si tres números forman un triángulo rectángulo (teorema pitágoras)\n",
    "\n",
    "c = 10\n",
    "a = 8\n",
    "b = 6\n",
    "\n",
    "if ((c**2) - (a**2) - (b**2)) == 0:\n",
    "    print(\"Es un triángulo rectángulo\")\n",
    "else:\n",
    "    print(\"No es un triángulo rectángulo\")"
   ]
  },
  {
   "cell_type": "code",
   "execution_count": 12,
   "metadata": {},
   "outputs": [
    {
     "name": "stdout",
     "output_type": "stream",
     "text": [
      "Es un triángulo rectángulo\n"
     ]
    }
   ],
   "source": [
    "c = 10\n",
    "a = 8\n",
    "b = 6\n",
    "\n",
    "if c*c == a*a + b*b:\n",
    "    print(\"Es un triángulo rectángulo\")\n",
    "else:\n",
    "    print(\"No es un triángulo rectángulo\")"
   ]
  },
  {
   "cell_type": "code",
   "execution_count": 13,
   "metadata": {},
   "outputs": [
    {
     "name": "stdout",
     "output_type": "stream",
     "text": [
      "Calificación es C\n"
     ]
    }
   ],
   "source": [
    "#Ejercicio10_Asignar una calificación a una puntuación\n",
    "\n",
    "puntuación = 75\n",
    "\n",
    "if puntuación >= 90:\n",
    "    print(\"Calificación es A\")\n",
    "elif puntuación >= 80:\n",
    "        print(\"Calificación es B\")\n",
    "elif puntuación >= 70:\n",
    "     print(\"Calificación es C\")\n",
    "elif puntuación >= 60:\n",
    "     print(\"Calificación es D\")\n",
    "else:\n",
    "    print(\"Calificación es F\")\n"
   ]
  },
  {
   "cell_type": "code",
   "execution_count": 14,
   "metadata": {},
   "outputs": [
    {
     "name": "stdout",
     "output_type": "stream",
     "text": [
      "Bajo peso\n"
     ]
    }
   ],
   "source": [
    "#Ejercicio11_Calcular el índice de masa corporal (IMC) y categorizarlo\n",
    "\n",
    "peso = 56\n",
    "altura = 165\n",
    "IMC = float(peso/altura)\n",
    "\n",
    "if IMC < 18.5:\n",
    "    print (\"Bajo peso\")\n",
    "elif 18.5 <= IMC < 24.9:\n",
    "    print (\"Bajo normal\")\n",
    "elif 25 <= IMC < 29.9:\n",
    "    print (\"Sobrepeso\")\n",
    "else:\n",
    "    print (\"Obesidad\")"
   ]
  },
  {
   "cell_type": "code",
   "execution_count": 15,
   "metadata": {},
   "outputs": [
    {
     "name": "stdout",
     "output_type": "stream",
     "text": [
      "El máximo es 6900\n"
     ]
    }
   ],
   "source": [
    "#Ejercicio12_Calcular el mayor de tres números\n",
    "\n",
    "a = 4900\n",
    "b = 6900\n",
    "c = 4900\n",
    "\n",
    "if a > b and a > c:\n",
    "    print (\"El máximo es\", a)\n",
    "\n",
    "elif b > a and b > c:\n",
    "    print (\"El máximo es\", b)\n",
    "\n",
    "elif c > a and c > b:\n",
    "    print (\"El máximo es\", c)\n",
    "\n",
    "elif a == b == c:\n",
    "    print (\"El máximo es\", a)"
   ]
  },
  {
   "cell_type": "code",
   "execution_count": 16,
   "metadata": {},
   "outputs": [
    {
     "ename": "SyntaxError",
     "evalue": "invalid syntax (1404535654.py, line 7)",
     "output_type": "error",
     "traceback": [
      "\u001b[0;36m  File \u001b[0;32m\"/tmp/ipykernel_21265/1404535654.py\"\u001b[0;36m, line \u001b[0;32m7\u001b[0m\n\u001b[0;31m    if dia\u001b[0m\n\u001b[0m           ^\u001b[0m\n\u001b[0;31mSyntaxError\u001b[0m\u001b[0;31m:\u001b[0m invalid syntax\n"
     ]
    }
   ],
   "source": [
    "#Ejercicio13_BONUS sentencias de control: Verificar la validez de una fecha?---PENDIENTE\n",
    "\n",
    "dia = 22\n",
    "mes = 4\n",
    "año = 1984\n",
    "\n",
    "if dia "
   ]
  },
  {
   "cell_type": "code",
   "execution_count": null,
   "metadata": {},
   "outputs": [
    {
     "name": "stdout",
     "output_type": "stream",
     "text": [
      "------------------------\n"
     ]
    }
   ],
   "source": [
    "###EJERCICIOS WHILE"
   ]
  },
  {
   "cell_type": "code",
   "execution_count": 17,
   "metadata": {},
   "outputs": [
    {
     "name": "stdout",
     "output_type": "stream",
     "text": [
      "1\n",
      "2\n",
      "3\n",
      "4\n",
      "5\n",
      "6\n",
      "7\n",
      "8\n",
      "9\n",
      "10\n"
     ]
    }
   ],
   "source": [
    "#Ejercicio1_Calcular la suma de los primeros 10 números naturales utilizando un bucle \n",
    "\n",
    "numero = 1\n",
    "\n",
    "while numero <= 10:\n",
    "    print (numero)\n",
    "    numero += 1"
   ]
  },
  {
   "cell_type": "code",
   "execution_count": 1,
   "metadata": {},
   "outputs": [
    {
     "name": "stdout",
     "output_type": "stream",
     "text": [
      "El número introducido es \n",
      "No lo has acertado!\n",
      "\n",
      "No lo has acertado!\n"
     ]
    }
   ],
   "source": [
    "#Ejercicio2_Juego de adivinanza\n",
    "\n",
    "numerosecreto = 7\n",
    "numerosaintroducir = [0, 1, 2, 3, 4, 5, 6, 7, 8, 9, 10]\n",
    "numeroelegido = input (f\"Introduce un número {numerosaintroducir}\")\n",
    "print (\"El número introducido es\", numeroelegido)\n",
    "\n",
    "while numeroelegido != numerosecreto:\n",
    "    print (\"No lo has acertado!\")\n",
    "    numeroaintroducir2 = input (f\"Vuelve a introducir un número {numerosaintroducir}\")\n",
    "    print (numeroaintroducir2)\n",
    "\n",
    "else: \n",
    "    print (\"Has acertado!\")\n"
   ]
  },
  {
   "cell_type": "code",
   "execution_count": null,
   "metadata": {},
   "outputs": [],
   "source": []
  }
 ],
 "metadata": {
  "kernelspec": {
   "display_name": "base",
   "language": "python",
   "name": "python3"
  },
  "language_info": {
   "codemirror_mode": {
    "name": "ipython",
    "version": 3
   },
   "file_extension": ".py",
   "mimetype": "text/x-python",
   "name": "python",
   "nbconvert_exporter": "python",
   "pygments_lexer": "ipython3",
   "version": "3.9.7"
  }
 },
 "nbformat": 4,
 "nbformat_minor": 2
}
