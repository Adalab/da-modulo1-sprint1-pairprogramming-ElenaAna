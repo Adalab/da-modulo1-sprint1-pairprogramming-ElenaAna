{
 "cells": [
  {
   "cell_type": "code",
   "execution_count": 3,
   "metadata": {},
   "outputs": [
    {
     "name": "stdout",
     "output_type": "stream",
     "text": [
      "El número insertado ( 8 ) es positivo\n"
     ]
    }
   ],
   "source": [
    "#Ejercicio1_Verificar si un número es positivo, negativo o cero\n",
    "\n",
    "numero = int(input (\"Introduce un número\"))\n",
    "\n",
    "if numero == 0:\n",
    "    print (\"El número insertado cero\")\n",
    "elif numero >0:\n",
    "    print (\"El número insertado (\", numero, \") es positivo\")\n",
    "else:\n",
    "    print (\"El número insertado (\", numero, \") es negativo\")"
   ]
  },
  {
   "cell_type": "code",
   "execution_count": 4,
   "metadata": {},
   "outputs": [
    {
     "name": "stdout",
     "output_type": "stream",
     "text": [
      "El número es impar\n"
     ]
    }
   ],
   "source": [
    "#Ejercio2_Verificar si un número es par o impar\n",
    "\n",
    "numeropar = 9\n",
    "\n",
    "if numeropar % 2 == 0:\n",
    "    print (\"El número es par\")\n",
    "else:\n",
    "    print (\"El número es impar\")"
   ]
  },
  {
   "cell_type": "code",
   "execution_count": 5,
   "metadata": {},
   "outputs": [
    {
     "name": "stdout",
     "output_type": "stream",
     "text": [
      "El estudiante ha aprobado\n"
     ]
    }
   ],
   "source": [
    "#Ejercio3_Verificar si un estudiante aprobó o suspendió un examen\n",
    "\n",
    "calificacion = 80\n",
    "\n",
    "if calificacion >= 60:\n",
    "    print (\"El estudiante ha aprobado\")\n",
    "else:\n",
    "    print (\"El estudiante ha suspendido\")"
   ]
  },
  {
   "cell_type": "code",
   "execution_count": 6,
   "metadata": {},
   "outputs": [
    {
     "name": "stdout",
     "output_type": "stream",
     "text": [
      "El mayor el 90\n"
     ]
    }
   ],
   "source": [
    "#Ejercio4_Calcular el máximo entre dos números. Opción 1\n",
    "\n",
    "numeros1 = 80\n",
    "numeros2 = 90\n",
    "\n",
    "if numeros2 > numeros1:\n",
    "    print (f\"El mayor el {numeros2}\")"
   ]
  },
  {
   "cell_type": "code",
   "execution_count": 7,
   "metadata": {},
   "outputs": [
    {
     "data": {
      "text/plain": [
       "90"
      ]
     },
     "execution_count": 7,
     "metadata": {},
     "output_type": "execute_result"
    }
   ],
   "source": [
    "#Ejercio4_Calcular el máximo entre dos números. Opción 2\n",
    "\n",
    "numeros3 = [80, 90]\n",
    "max(numeros3)"
   ]
  },
  {
   "cell_type": "code",
   "execution_count": 8,
   "metadata": {},
   "outputs": [
    {
     "name": "stdout",
     "output_type": "stream",
     "text": [
      "letra es una consonante\n"
     ]
    }
   ],
   "source": [
    "#Ejercio5_Verificar si una letra es una vocal o una consonante\n",
    "\n",
    "letra = \"H\"\n",
    "vocales = [\"A\", \"E\", \"I\", \"O\", \"U\"]\n",
    "\n",
    "if letra == vocales:\n",
    "    print (\"letra es una vocal\")\n",
    "else:\n",
    "    print (\"letra es una consonante\")\n"
   ]
  },
  {
   "cell_type": "code",
   "execution_count": 11,
   "metadata": {},
   "outputs": [
    {
     "name": "stdout",
     "output_type": "stream",
     "text": [
      "El descueno es de: 30.0 EUR\n"
     ]
    }
   ],
   "source": [
    "#Ejercio6_Calcular el descuento en una compra según el monto total\n",
    "\n",
    "compra = 300\n",
    "\n",
    "if compra >= 100:\n",
    "    descuento1 = (compra*0.10)\n",
    "    print (\"El descueno es de:\", descuento1, \"EUR\")\n",
    "else:\n",
    "    print (\"No hay descuento\")"
   ]
  },
  {
   "cell_type": "code",
   "execution_count": 12,
   "metadata": {},
   "outputs": [
    {
     "name": "stdout",
     "output_type": "stream",
     "text": [
      "2023 No es bisiesto\n"
     ]
    }
   ],
   "source": [
    "#Ejercio7_Verificar si un año es bisiesto o no\n",
    "\n",
    "año = 2023\n",
    "\n",
    "if año % 4 == 0:\n",
    "    print (año, \"Es bisiesto\")\n",
    "\n",
    "else:\n",
    "    print (año, \"No es bisiesto\")"
   ]
  },
  {
   "cell_type": "code",
   "execution_count": 13,
   "metadata": {},
   "outputs": [
    {
     "name": "stdout",
     "output_type": "stream",
     "text": [
      "Es adulo\n"
     ]
    }
   ],
   "source": [
    "#Ejercio8_Verificar el grupo de edad\n",
    "\n",
    "edad = 37\n",
    "\n",
    "if edad < 18:\n",
    "    print (\"Es menor de edad\")\n",
    "\n",
    "elif edad >= 18 and edad <= 64:\n",
    "    print (\"Es adulo\")\n",
    "\n",
    "else:\n",
    "    print (\"Es adulto mayor\")"
   ]
  },
  {
   "cell_type": "code",
   "execution_count": null,
   "metadata": {},
   "outputs": [],
   "source": [
    "#Ejercio9_Verificar si tres números forman un triángulo rectángulo (teorema pitágoras)\n",
    "\n",
    "x = 8\n",
    "y = 37\n",
    "z = 43\n",
    "\n",
    "c**2=a**2 + b **2\n"
   ]
  },
  {
   "cell_type": "code",
   "execution_count": null,
   "metadata": {},
   "outputs": [],
   "source": [
    "#Ejercicio10_Asignar una calificación a una puntuación\n",
    "\n",
    "puntuación = \n",
    "\n"
   ]
  },
  {
   "cell_type": "code",
   "execution_count": null,
   "metadata": {},
   "outputs": [],
   "source": [
    "#Ejercicio11_Calcular el índice de masa corporal (IMC) y categorizarlo"
   ]
  },
  {
   "cell_type": "code",
   "execution_count": null,
   "metadata": {},
   "outputs": [],
   "source": [
    "#Ejercicio12_Calcular el mayor de tres números"
   ]
  },
  {
   "cell_type": "code",
   "execution_count": null,
   "metadata": {},
   "outputs": [],
   "source": [
    "#Ejercicio13_BONUS sentencias de control: Verificar la validez de una fecha"
   ]
  },
  {
   "cell_type": "code",
   "execution_count": 14,
   "metadata": {},
   "outputs": [
    {
     "name": "stdout",
     "output_type": "stream",
     "text": [
      "------------------------\n"
     ]
    }
   ],
   "source": [
    "###EJERCICIOS WHILE"
   ]
  },
  {
   "cell_type": "code",
   "execution_count": null,
   "metadata": {},
   "outputs": [],
   "source": [
    "#Ejercicio1_Calcular la suma de los primeros 10 números naturales utilizando un bucle "
   ]
  },
  {
   "cell_type": "code",
   "execution_count": null,
   "metadata": {},
   "outputs": [],
   "source": [
    "#Ejercicio2_Juego de adivinanza"
   ]
  }
 ],
 "metadata": {
  "kernelspec": {
   "display_name": "base",
   "language": "python",
   "name": "python3"
  },
  "language_info": {
   "codemirror_mode": {
    "name": "ipython",
    "version": 3
   },
   "file_extension": ".py",
   "mimetype": "text/x-python",
   "name": "python",
   "nbconvert_exporter": "python",
   "pygments_lexer": "ipython3",
   "version": "3.9.7"
  }
 },
 "nbformat": 4,
 "nbformat_minor": 2
}
