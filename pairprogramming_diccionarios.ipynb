{
 "cells": [
  {
   "cell_type": "code",
   "execution_count": 9,
   "metadata": {},
   "outputs": [
    {
     "data": {
      "text/plain": [
       "{}"
      ]
     },
     "execution_count": 9,
     "metadata": {},
     "output_type": "execute_result"
    }
   ],
   "source": [
    "#Ejercicio 1\n",
    "\n",
    "diccionario1 = {}\n",
    "diccionario1\n"
   ]
  },
  {
   "cell_type": "code",
   "execution_count": 15,
   "metadata": {},
   "outputs": [
    {
     "data": {
      "text/plain": [
       "{'nombre': 'Ana',\n",
       " 'Apellido': 'González',\n",
       " 'Apellido2': 'Gutierrez',\n",
       " 'Edad': 27,\n",
       " 'ciudad': 'Fuenlabrada'}"
      ]
     },
     "execution_count": 15,
     "metadata": {},
     "output_type": "execute_result"
    }
   ],
   "source": [
    "#Ejercicio 2\n",
    "nuevo_elemento = {'nombre':'Ana', 'Apellido': 'González', 'Apellido2': 'Gutierrez', 'Edad': 27, 'ciudad':'Fuenlabrada'}\n",
    "diccionario1.update(nuevo_elemento)\n",
    "diccionario1"
   ]
  },
  {
   "cell_type": "code",
   "execution_count": 24,
   "metadata": {},
   "outputs": [
    {
     "data": {
      "text/plain": [
       "27"
      ]
     },
     "execution_count": 24,
     "metadata": {},
     "output_type": "execute_result"
    }
   ],
   "source": [
    "#Ejercicio3 \n",
    "pregunta = input('Incluir key')\n",
    "diccionario1.get(pregunta)"
   ]
  },
  {
   "cell_type": "code",
   "execution_count": 26,
   "metadata": {},
   "outputs": [
    {
     "data": {
      "text/plain": [
       "{'nombre': 'Ana',\n",
       " 'Apellido': 'González',\n",
       " 'Apellido2': 'Gutierrez',\n",
       " 'Edad': 27,\n",
       " 'ciudad': 'Fuenlabrada',\n",
       " 'color': ['azul', 'negro']}"
      ]
     },
     "execution_count": 26,
     "metadata": {},
     "output_type": "execute_result"
    }
   ],
   "source": [
    "#Ejercicio4\n",
    "diccionario1.update({'color':['azul', 'negro']})\n",
    "diccionario1"
   ]
  },
  {
   "cell_type": "code",
   "execution_count": 28,
   "metadata": {},
   "outputs": [
    {
     "data": {
      "text/plain": [
       "{'nombre': 'Ana',\n",
       " 'Apellido': 'González',\n",
       " 'Apellido2': 'Gutierrez',\n",
       " 'Edad': 27,\n",
       " 'ciudad': 'Fuenlabrada',\n",
       " 'color': ['azul', 'negro']}"
      ]
     },
     "execution_count": 28,
     "metadata": {},
     "output_type": "execute_result"
    }
   ],
   "source": [
    "\n",
    "diccionario1['color'] = ['azul', 'negro']\n",
    "diccionario1"
   ]
  },
  {
   "cell_type": "code",
   "execution_count": 30,
   "metadata": {},
   "outputs": [
    {
     "data": {
      "text/plain": [
       "{'nombre': 'Ana',\n",
       " 'Apellido': 'González',\n",
       " 'Apellido2': 'Gutierrez',\n",
       " 'Edad': 28,\n",
       " 'ciudad': 'Fuenlabrada',\n",
       " 'color': ['azul', 'negro']}"
      ]
     },
     "execution_count": 30,
     "metadata": {},
     "output_type": "execute_result"
    }
   ],
   "source": [
    "#Ejercicio 5\n",
    "diccionario1.update({'Edad':28})\n",
    "diccionario1"
   ]
  },
  {
   "cell_type": "code",
   "execution_count": 31,
   "metadata": {},
   "outputs": [
    {
     "data": {
      "text/plain": [
       "'Fuenlabrada'"
      ]
     },
     "execution_count": 31,
     "metadata": {},
     "output_type": "execute_result"
    }
   ],
   "source": [
    "#Ejercicio 6\n",
    "pregunta2 = input('Qué clave valor quieres eliminar?')\n",
    "diccionario1.pop(pregunta2)"
   ]
  },
  {
   "cell_type": "code",
   "execution_count": 32,
   "metadata": {},
   "outputs": [
    {
     "data": {
      "text/plain": [
       "{'nombre': 'Ana',\n",
       " 'Apellido': 'González',\n",
       " 'Apellido2': 'Gutierrez',\n",
       " 'Edad': 28,\n",
       " 'color': ['azul', 'negro']}"
      ]
     },
     "execution_count": 32,
     "metadata": {},
     "output_type": "execute_result"
    }
   ],
   "source": [
    "diccionario1"
   ]
  },
  {
   "cell_type": "code",
   "execution_count": 38,
   "metadata": {},
   "outputs": [
    {
     "data": {
      "text/plain": [
       "'no existe'"
      ]
     },
     "execution_count": 38,
     "metadata": {},
     "output_type": "execute_result"
    }
   ],
   "source": [
    "#Ejercicio 7\n",
    "pregunta3 = input('Esta key en el diccionario?')\n",
    "diccionario1.get(pregunta3, 'no existe')\n"
   ]
  }
 ],
 "metadata": {
  "kernelspec": {
   "display_name": "base",
   "language": "python",
   "name": "python3"
  },
  "language_info": {
   "codemirror_mode": {
    "name": "ipython",
    "version": 3
   },
   "file_extension": ".py",
   "mimetype": "text/x-python",
   "name": "python",
   "nbconvert_exporter": "python",
   "pygments_lexer": "ipython3",
   "version": "3.9.7"
  }
 },
 "nbformat": 4,
 "nbformat_minor": 2
}
